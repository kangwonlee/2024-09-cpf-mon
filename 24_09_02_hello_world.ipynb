{
  "nbformat": 4,
  "nbformat_minor": 0,
  "metadata": {
    "colab": {
      "private_outputs": true,
      "provenance": []
    },
    "kernelspec": {
      "name": "python3",
      "display_name": "Python 3"
    },
    "language_info": {
      "name": "python"
    }
  },
  "cells": [
    {
      "cell_type": "code",
      "execution_count": null,
      "metadata": {
        "id": "GMsh__cGaZZ8"
      },
      "outputs": [],
      "source": [
        "print(\"이번학기에도 무언가 새로운 것을 배워 봅시다\")"
      ]
    },
    {
      "cell_type": "code",
      "source": [
        "# many power mode 는 조심해서 사용하세요\n",
        "# no power mode 에서도 불꽃 코딩이 가능할까요?\n",
        "# 중간정도의 힘으로 코드를 잘 만들어 봅시다\n"
      ],
      "metadata": {
        "id": "p6hQeF_-aeP8"
      },
      "execution_count": null,
      "outputs": []
    }
  ]
}